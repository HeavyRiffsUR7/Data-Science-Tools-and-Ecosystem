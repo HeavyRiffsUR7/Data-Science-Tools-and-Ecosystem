{
 "cells": [
  {
   "cell_type": "markdown",
   "id": "dac734f3-9f0a-48a0-92ee-3d2e66b37005",
   "metadata": {},
   "source": [
    "# Data Science Tools and Ecosystem"
   ]
  },
  {
   "cell_type": "markdown",
   "id": "ec782137-82f4-4a2d-9020-7449a192a85b",
   "metadata": {},
   "source": [
    "In this notebook, Data Science Tools and Ecosystem are summarized."
   ]
  },
  {
   "cell_type": "markdown",
   "id": "37405094-5639-4b7f-b375-237459b0fbb9",
   "metadata": {},
   "source": [
    "**Objectives:**\n",
    "* List popular languages for Data Science;\n",
    "* Identify some of the libraries used by Data Scientists;\n",
    "* List three development environment open source tools used in Data Science;\n",
    "* Understand how simple arithmetic works in Python;"
   ]
  },
  {
   "cell_type": "markdown",
   "id": "dcc2053f-456e-48cc-9f57-5e560378411c",
   "metadata": {},
   "source": [
    "Some of the popular languages that Data Scientists use are:\n",
    "1. Python\n",
    "2. R\n",
    "3. SQL"
   ]
  },
  {
   "cell_type": "markdown",
   "id": "c10bedf7-82c0-4474-b1d0-a6715934f618",
   "metadata": {},
   "source": [
    "Some of the most commonly libraries used by Data Scientists include:\n",
    "1. Pandas\n",
    "2. NumPy\n",
    "3. Matplotlib"
   ]
  },
  {
   "cell_type": "markdown",
   "id": "a7d0f5ab-5a68-46c3-a1be-c50ce0d789b2",
   "metadata": {},
   "source": [
    "|Data Science tools|\n",
    "|------------------|\n",
    "|Jupyter Notebook|\n",
    "|RStudio|\n",
    "|Apache Zeppelin|"
   ]
  },
  {
   "cell_type": "markdown",
   "id": "e6f35b5f-836a-40cb-90fe-ef2bb15e35aa",
   "metadata": {},
   "source": [
    "### Below are a few examples of evaluating arithmetic expressions in Python."
   ]
  },
  {
   "cell_type": "code",
   "execution_count": 11,
   "id": "2d52916d-12e3-4707-98aa-1c76fbb6ea99",
   "metadata": {},
   "outputs": [
    {
     "data": {
      "text/plain": [
       "17"
      ]
     },
     "execution_count": 11,
     "metadata": {},
     "output_type": "execute_result"
    }
   ],
   "source": [
    "# This a simple arithmetic expression to multiply then add integers:\n",
    "(3*4)+5"
   ]
  },
  {
   "cell_type": "code",
   "execution_count": 13,
   "id": "6e4a7d79-4061-4913-8247-52bd66d82499",
   "metadata": {},
   "outputs": [
    {
     "data": {
      "text/plain": [
       "3.3333333333333335"
      ]
     },
     "execution_count": 13,
     "metadata": {},
     "output_type": "execute_result"
    }
   ],
   "source": [
    "#This will convert 200 minutes to hours by diving by 60:\n",
    "200/60"
   ]
  },
  {
   "cell_type": "markdown",
   "id": "19e7c3f9-1fe9-424f-9239-86f1e163f371",
   "metadata": {},
   "source": [
    "## Author\n",
    "Júlio Silva"
   ]
  },
  {
   "cell_type": "code",
   "execution_count": null,
   "id": "08398850-76db-4c8f-a081-0a469a4af878",
   "metadata": {},
   "outputs": [],
   "source": []
  }
 ],
 "metadata": {
  "kernelspec": {
   "display_name": "Python 3 (ipykernel)",
   "language": "python",
   "name": "python3"
  },
  "language_info": {
   "codemirror_mode": {
    "name": "ipython",
    "version": 3
   },
   "file_extension": ".py",
   "mimetype": "text/x-python",
   "name": "python",
   "nbconvert_exporter": "python",
   "pygments_lexer": "ipython3",
   "version": "3.11.9"
  }
 },
 "nbformat": 4,
 "nbformat_minor": 5
}
